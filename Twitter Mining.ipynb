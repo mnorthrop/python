{
 "cells": [
  {
   "cell_type": "code",
   "execution_count": 12,
   "metadata": {},
   "outputs": [],
   "source": [
    "import tweepy\n",
    "consumer_key = 'paste consumer key here'\n",
    "consumer_secret = 'paste consumer secret here'\n",
    "access_token = 'paste access token here'\n",
    "access_token_secret = 'paste access token secret here'"
   ]
  },
  {
   "cell_type": "code",
   "execution_count": 13,
   "metadata": {},
   "outputs": [],
   "source": [
    "# Creating the authentication object\n",
    "auth = tweepy.OAuthHandler(consumer_key, consumer_secret)\n",
    "# Setting your access token and secret\n",
    "auth.set_access_token(access_token, access_token_secret)\n",
    "# Creating the API object while passing in auth information\n",
    "api = tweepy.API(auth) "
   ]
  },
  {
   "cell_type": "markdown",
   "metadata": {},
   "source": [
    "# Example 1: Your Timeline"
   ]
  },
  {
   "cell_type": "code",
   "execution_count": 15,
   "metadata": {},
   "outputs": [
    {
     "name": "stdout",
     "output_type": "stream",
     "text": [
      "RT @TheNewMeat: People who say \"Hitler was a socialist cuz his party included the word socialist\" must be incredibly confused that the titm…\n",
      "RT @acgoodyear: D3FB:  @HamlineFootball hosting St. John's @SJUFootball in a @MIACathletics matchup.  Highlights tonight on @WCCO TV https:…\n",
      "Gimme some #Hulk lovin. https://t.co/2KuzKHJxwc\n",
      "RT @dadthatwrites: @neilhimself My 13 month old, Coraline, loves the Chu books, @neilhimself .  She's born to be a Neil fan. https://t.co/C…\n",
      "RT @thatgrltrish: 3rd times a charm!!!! The stream is live at https://t.co/xrNf25unO3 LOL  \n",
      "(I'm joining #ExtraLife2017 LA Chapter FOR THE…\n",
      "RT @jlac: This is a good end to baseball season. https://t.co/1RAbaauBG6\n",
      "My new FB banner of a country morning is from Steve Masimore of Hackensack as part of Best MN Fall Photo contest. https://t.co/2PiGC0Becd\n",
      "The turn out and response is just amazing. Thank you, thank you, thank you for letting me do this for a living.  🙏🙏… https://t.co/nFCOEvffme\n",
      "So basically, if I do a sequel it's going to be ALL LALO.\n",
      "Lalo loved 'Baby Driver'. Which made my admission that the script once had 2 Lalo tracks in it &amp; a discussion of the Bullitt score shameful.\n",
      "RT @ASlavitt: Want your chance to strike a blow for American humans and against Russian bots?\n",
      "\n",
      "Now is the chance. Vote for @RalphNortham in…\n",
      "This will make you happy https://t.co/oW1bnlDW7H\n",
      "RT @michelleisawolf: Just a girl standing in front of an explosion asking you to watch me. 12/2 at 9PM on @HBO https://t.co/afYmZXKXo0\n",
      "Fascinating. https://t.co/4d84Pv6iPo\n",
      "RT @CAPAction: ICYMI: Trump has two very different responses to terror attacks, depending on if the attacker is white or non-white. https:/…\n",
      "Ep 1-3 includes him as well https://t.co/koCXxI0T0m\n",
      "And they lived happily ever after...to infinity and beyond! 😉 https://t.co/IRhoZG13Ba\n",
      "He was included in Ep 1-3 https://t.co/nL5j0RAigQ\n",
      "😳@Writer_DG 🧐 You’re going to put them into a time paradox?  Groundhog Day? https://t.co/1Ca2e8ebN4\n"
     ]
    }
   ],
   "source": [
    "# Using the API object to get tweets from your timeline, and storing it in a variable called public_tweets\n",
    "public_tweets = api.home_timeline()\n",
    "# foreach through all tweets pulled\n",
    "for tweet in public_tweets:\n",
    "   # printing the text stored inside the tweet object\n",
    "   print (tweet.text)"
   ]
  },
  {
   "cell_type": "markdown",
   "metadata": {},
   "source": [
    "Following the link to the tweet will bring you to the tweet itself."
   ]
  },
  {
   "cell_type": "markdown",
   "metadata": {},
   "source": [
    "# Example 2: Tweets from a Specific User"
   ]
  },
  {
   "cell_type": "code",
   "execution_count": 17,
   "metadata": {},
   "outputs": [
    {
     "name": "stdout",
     "output_type": "stream",
     "text": [
      "Opinion: Trump’s unpopularity is stark, but not among his party’s voters https://t.co/FcutuDziW5\n",
      "A government-run program is virtually the only source of flood insurance for over 5 million homes — and its broke https://t.co/vJTaeuQgW1\n",
      "Modern Love: \"I wanted to tell him I had loved him but hadn’t known how to have platonic love with a man\" https://t.co/L0XAsaagrX\n",
      "New York City is rich enough and comfortable enough — for now! — that New Yorkers can complain about their mayor https://t.co/PVMIbTtvhC\n",
      "Opinion: Truly loving cats means hating yourself. And that’s a quality I cannot accept in dates. \n",
      "https://t.co/Pvj7JaTwLD\n",
      "House Republicans are proposing a tax on wealthier colleges’ investment income to help pay for broad cuts https://t.co/XfpD3ruGcF\n",
      "Detroit is still trying to recover after the 2008 financial crisis and the 2013 bankruptcy gutted its housing market https://t.co/vuDTH72kdD\n",
      "9 weeks after Hurricane Harvey hit Texas, the Astros celebrated their first ever World Series title… https://t.co/xKLO9PeT7J\n",
      "Our top 10 comments of the week https://t.co/0mTwl5q5yM https://t.co/cdouAv5eRG\n",
      "It's the stuff of liberal fantasies: a vast, defiant territory governed by Democrats resisting Trump at every turn https://t.co/rvaaX90ZlI\n",
      "In the aftermath of the transgender bathroom bill debate, North Carolina can't shake the residual damage https://t.co/gecy1f9Vif\n",
      "A Trump campaign adviser testified that he met with Russian officials in 2016, contradicting his previous accounts  https://t.co/e4CvXvkoYw\n",
      "In Atlanta, America's \"Black Mecca,\" voters are asking themselves how important it is that the next mayor be black https://t.co/HkBkfMqAS2\n",
      "Opinion: She gained partial hearing at age 20. In virtual reality, experience how she felt sound, before and after.… https://t.co/YdUm74KzQC\n",
      "How 6 women changed a \"separate but equal\" rule at the New York City Marathon https://t.co/L0XnWBLUhJ\n",
      "Readers share their personal stories about winning the diversity visa lottery https://t.co/sbQsU6h49c\n",
      "The climate is changing for the worse, a new report says, but most minds are already made up https://t.co/cavy4j7R2T\n",
      "The rate of gun deaths in the U.S. rose for the second year in a row, the CDC announced https://t.co/ugZDAGxAN5\n",
      "Your Saturday playlist: The week's 10 most notable new songs https://t.co/Ij6wi7N8Tv\n",
      "\"I'm worried that I will be the last Republican president.\" George Bush and his father reveal unease over Trump. https://t.co/HF1dEPgsPT\n"
     ]
    }
   ],
   "source": [
    "# Creating the API object while passing in auth information\n",
    "api = tweepy.API(auth)\n",
    "\n",
    "# The Twitter user who we want to get tweets from\n",
    "name = \"nytimes\"\n",
    "# Number of tweets to pull\n",
    "tweetCount = 20\n",
    "\n",
    "# Calling the user_timeline function with our parameters\n",
    "results = api.user_timeline(id=name, count=tweetCount)\n",
    "\n",
    "# foreach through all tweets pulled\n",
    "for tweet in results:\n",
    "   # printing the text stored inside the tweet object\n",
    "   print (tweet.text)"
   ]
  },
  {
   "cell_type": "markdown",
   "metadata": {},
   "source": [
    "This data can be used to:\n",
    "* Run analysis on specific users and how they interact with the world.\n",
    "* Finding Twitter influencers and analyzing their follower trends and interactions\n",
    "* Monitoring the changes in the followers of a user"
   ]
  },
  {
   "cell_type": "markdown",
   "metadata": {},
   "source": [
    "# Example 3: Finding Tweets Using a Keyword"
   ]
  },
  {
   "cell_type": "code",
   "execution_count": 20,
   "metadata": {},
   "outputs": [
    {
     "name": "stdout",
     "output_type": "stream",
     "text": [
      "AlexahCanada Tweeted: The best value plays in your DraftKings lineup for Week 9 of the NFL season https://t.co/cP2KjJIxKO\n",
      "tm041947 Tweeted: RT @NFL: Throw 'em up.\n",
      "🙅‍♂️🙅‍♂️🙅‍♂️\n",
      "\n",
      "It's @DezBryant's birthday! https://t.co/ApKEwkvXMu\n",
      "shelly_greer Tweeted: RT @larryelder: Since the NFL protests are now about “inequality,” how about the league select its players through a “diversity” lottery?\n",
      "#…\n",
      "CAPRl_SUN Tweeted: RT @NFL: .@AdrianPeterson.\n",
      "296 rushing yards.\n",
      "IN A SINGLE GAME? 😱😱😱\n",
      "\n",
      "It happened exactly 10 years ago today. https://t.co/gQjXl5pe4m\n",
      "YungJayy_ Tweeted: RT @NFL: .@AdrianPeterson.\n",
      "296 rushing yards.\n",
      "IN A SINGLE GAME? 😱😱😱\n",
      "\n",
      "It happened exactly 10 years ago today. https://t.co/gQjXl5pe4m\n",
      "TrueHustla1k Tweeted: RT @bycycle: DeAndre Hopkins grew up surrounded by tragedy.\n",
      "\n",
      "He turned it into NFL stardom and improved life for everyone close to him. htt…\n",
      "ValeriaBrownEdu Tweeted: RT @LeslieMac: When ALL the systems collude to silence Black protest. Business. Government. Entertainment. WHITE SUPREMACY. https://t.co/ri…\n",
      "tok_media Tweeted: #NFL ratings keep dropping: is this because of players protesting the anthem? Vote &amp; join the debate on TOK  https://t.co/6nqxxCOHeQ\n",
      "ChristinaTsabas Tweeted: RT @theIeansquad: NFL PLAYERS TRY NOT TO LAUGH AT THE WORST JOKES https://t.co/T62FWBbG5h\n",
      "Pierthebestman Tweeted: RT @NFL: Throw 'em up.\n",
      "🙅‍♂️🙅‍♂️🙅‍♂️\n",
      "\n",
      "It's @DezBryant's birthday! https://t.co/ApKEwkvXMu\n",
      "muteassassin10 Tweeted: RT @NFL: .@AdrianPeterson.\n",
      "296 rushing yards.\n",
      "IN A SINGLE GAME? 😱😱😱\n",
      "\n",
      "It happened exactly 10 years ago today. https://t.co/gQjXl5pe4m\n",
      "gtgaliardo7 Tweeted: Wtf this was 10 years ago?! https://t.co/ki3YOdMBFR\n",
      "nigerianxgal Tweeted: RT @1942bs: they held him and his kids at gun point instead of just asking him for an identification. this is exactly why NFL players are k…\n",
      "lifeoncoin Tweeted: \"The best value plays in your DraftKings lineup for Week 9 of the NFL season\" https://t.co/f5U54Z7vZp\n",
      "iBeMonte Tweeted: RT @NFL: .@AdrianPeterson.\n",
      "296 rushing yards.\n",
      "IN A SINGLE GAME? 😱😱😱\n",
      "\n",
      "It happened exactly 10 years ago today. https://t.co/gQjXl5pe4m\n"
     ]
    }
   ],
   "source": [
    "# Creating the API object while passing in auth information\n",
    "api = tweepy.API(auth)\n",
    "\n",
    "# The search term you want to find\n",
    "query = \"NFL\"\n",
    "# Language code (follows ISO 639-1 standards)\n",
    "language = \"en\"\n",
    "\n",
    "# Calling the user_timeline function with our parameters\n",
    "results = api.search(q=query, lang=language)\n",
    "\n",
    "# foreach through all tweets pulled\n",
    "for tweet in results:\n",
    "   # printing the text stored inside the tweet object\n",
    "   print (tweet.user.screen_name,\"Tweeted:\",tweet.text)"
   ]
  },
  {
   "cell_type": "markdown",
   "metadata": {},
   "source": [
    "This data can be used for:\n",
    "* Creating a spatial graph on where your company is mentioned the most around the world.\n",
    "* Running sentiment analysis' on tweets to see if the overall opinion of your company is positive or negative.\n",
    "* Creating social graphs of the most popular users that tweet about your company or product"
   ]
  },
  {
   "cell_type": "code",
   "execution_count": null,
   "metadata": {
    "collapsed": true
   },
   "outputs": [],
   "source": []
  }
 ],
 "metadata": {
  "kernelspec": {
   "display_name": "Python 3",
   "language": "python",
   "name": "python3"
  },
  "language_info": {
   "codemirror_mode": {
    "name": "ipython",
    "version": 3
   },
   "file_extension": ".py",
   "mimetype": "text/x-python",
   "name": "python",
   "nbconvert_exporter": "python",
   "pygments_lexer": "ipython3",
   "version": "3.6.1"
  }
 },
 "nbformat": 4,
 "nbformat_minor": 2
}
